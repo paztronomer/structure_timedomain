{
 "cells": [
  {
   "cell_type": "markdown",
   "metadata": {},
   "source": [
    "## Tape bump assessment (py3). CCD 01\n",
    "Remember the tape bump is temperature-variation dependent"
   ]
  },
  {
   "cell_type": "code",
   "execution_count": null,
   "metadata": {
    "collapsed": true
   },
   "outputs": [],
   "source": [
    "import os\n",
    "import time\n",
    "import numpy as np\n",
    "import scipy.linalg\n",
    "import pandas as pd\n",
    "import matplotlib.pyplot as plt\n",
    "import matplotlib.gridspec as gridspec\n",
    "import matplotlib.animation as animation\n",
    "from astropy import time\n",
    "# from skimage import data, img_as_float\n",
    "from skimage.measure import compare_ssim\n",
    "from astropy.visualization import (MinMaxInterval, SqrtStretch,\n",
    "                                   ImageNormalize, ZScaleInterval)\n",
    "%matplotlib notebook"
   ]
  },
  {
   "cell_type": "markdown",
   "metadata": {},
   "source": [
    "Load the data from basic statistics time series. For *tapebump\\_centeright_{band}.npy* files, the statistic was extracted from Y4A1 tag, from 20161013 to 20161101\n"
   ]
  },
  {
   "cell_type": "code",
   "execution_count": null,
   "metadata": {
    "collapsed": true
   },
   "outputs": [],
   "source": [
    "# Initial set, 20161013t1101\n",
    "g_stat = np.load('tapebump_centeright_y4a1_g.npy')\n",
    "r_stat = np.load('tapebump_centeright_y4a1_r.npy')\n",
    "i_stat = np.load('tapebump_centeright_y4a1_i.npy')\n",
    "z_stat = np.load('tapebump_centeright_y4a1_z.npy')\n",
    "Y_stat = np.load('tapebump_centeright_y4a1_Y.npy')\n",
    "# Larger set, 20161001t1208\n",
    "g_stat_s2 = np.load('tapebump_centeright_y4a1_20161001t1208_g.npy')\n",
    "r_stat_s2 = np.load('tapebump_centeright_y4a1_20161001t1208_r.npy')\n",
    "i_stat_s2 = np.load('tapebump_centeright_y4a1_20161001t1208_i.npy')\n",
    "z_stat_s2 = np.load('tapebump_centeright_y4a1_20161001t1208_z.npy')\n",
    "Y_stat_s2 = np.load('tapebump_centeright_y4a1_20161001t1208_Y.npy')"
   ]
  },
  {
   "cell_type": "markdown",
   "metadata": {},
   "source": [
    "Which fields do the simple stats has?"
   ]
  },
  {
   "cell_type": "code",
   "execution_count": null,
   "metadata": {},
   "outputs": [],
   "source": [
    "g_stat.dtype"
   ]
  },
  {
   "cell_type": "markdown",
   "metadata": {},
   "source": [
    "Quick plots for assessment of time periods when the tapebump appears in the image. Then, visualize some of these in a movie-like plotting"
   ]
  },
  {
   "cell_type": "code",
   "execution_count": null,
   "metadata": {
    "collapsed": true
   },
   "outputs": [],
   "source": [
    "days = [np.ptp(x['mjd']) for x in [g_stat, r_stat, i_stat, z_stat, Y_stat]] "
   ]
  },
  {
   "cell_type": "code",
   "execution_count": null,
   "metadata": {
    "collapsed": true
   },
   "outputs": [],
   "source": [
    "days_s2 = [np.ptp(x['mjd']) for x in [g_stat_s2, r_stat_s2, i_stat_s2, z_stat_s2, Y_stat_s2]] "
   ]
  },
  {
   "cell_type": "markdown",
   "metadata": {},
   "source": [
    "### For the smaller set, covering from 20161013 to 20161101"
   ]
  },
  {
   "cell_type": "code",
   "execution_count": null,
   "metadata": {
    "collapsed": true,
    "scrolled": false
   },
   "outputs": [],
   "source": [
    "var_y1 = 'mad'\n",
    "kw1 = {\n",
    "    's' : 1, \n",
    "    'color' : 'blue',\n",
    "}\n",
    "fig, ax = plt.subplots(2, 5, figsize=(10, 6.5))\n",
    "ax[0, 0].scatter(g_stat['mjd'], g_stat[var_y1], **kw1)\n",
    "ax[0, 1].scatter(r_stat['mjd'], r_stat[var_y1], **kw1)\n",
    "ax[0, 2].scatter(i_stat['mjd'], i_stat[var_y1], **kw1)\n",
    "ax[0, 3].scatter(z_stat['mjd'], z_stat[var_y1], **kw1)\n",
    "ax[0, 4].scatter(Y_stat['mjd'], Y_stat[var_y1], **kw1)\n",
    "#\n",
    "kw2 = {\n",
    "    's' : 1,\n",
    "    'color' : 'green',\n",
    "}\n",
    "ax[1, 0].scatter(g_stat['max'] - g_stat['min'], g_stat['mad'], **kw2)\n",
    "ax[1, 1].scatter(r_stat['max'] - r_stat['min'], r_stat['mad'], **kw2)\n",
    "ax[1, 2].scatter(i_stat['max'] - i_stat['min'], i_stat['mad'], **kw2)\n",
    "ax[1, 3].scatter(z_stat['max'] - z_stat['min'], z_stat['mad'], **kw2)\n",
    "ax[1, 4].scatter(Y_stat['max'] - Y_stat['min'], Y_stat['mad'], **kw2)\n",
    "#\n",
    "bands = ['g', 'r', 'i', 'z', 'Y']\n",
    "for idx, s in enumerate(ax[0, :]):\n",
    "    s.set_yscale('log')\n",
    "    s.set_xlabel('mjd')\n",
    "    s.set_ylabel('mad')\n",
    "    s.set_title('{0}-band, {1:.1f} d'.format(bands[idx], days[idx]))\n",
    "for idx, s in enumerate(ax[1, :]):\n",
    "    s.set_yscale('log')\n",
    "    s.set_xlabel('mad')\n",
    "    s.set_ylabel('max - min')\n",
    "#    \n",
    "plt.subplots_adjust(wspace=0.5, left=0.1, right=0.98)"
   ]
  },
  {
   "cell_type": "markdown",
   "metadata": {},
   "source": [
    "### A very hands-on selection, small set"
   ]
  },
  {
   "cell_type": "markdown",
   "metadata": {},
   "source": [
    "Let's start by g-band, using astropy for imashow color scaling. "
   ]
  },
  {
   "cell_type": "code",
   "execution_count": null,
   "metadata": {
    "collapsed": true
   },
   "outputs": [],
   "source": [
    "sel_g = g_stat[np.where(np.logical_and((g_stat['max'] - g_stat['min']) > 50, g_stat['mad'] > 0.4))]\n",
    "# works too: [np.where(g_stat['mean'] < 0.4)]\n",
    "# [np.where(g_stat['mad'] > 0.4)]\n",
    "# [np.where(g_stat['min'] < -2)]\n",
    "# [np.where(np.logical_and((g_stat['max'] - g_stat['min']) > 50, g_stat['mean'] < 0))]\n",
    "sel_g_path = ['stamps/tape_centeright-y4a1_g_D00{0}.npy'.format(e) for e in sel_g['expnum']]"
   ]
  },
  {
   "cell_type": "markdown",
   "metadata": {},
   "source": [
    "r-band"
   ]
  },
  {
   "cell_type": "code",
   "execution_count": null,
   "metadata": {
    "collapsed": true
   },
   "outputs": [],
   "source": [
    "sel_r = r_stat[np.where(np.logical_and((r_stat['max'] - r_stat['min']) > 50, r_stat['mad'] > 0.4))]\n",
    "sel_r_path = ['stamps/tape_centeright-y4a1_r_D00{0}.npy'.format(e) for e in sel_r['expnum']]"
   ]
  },
  {
   "cell_type": "markdown",
   "metadata": {},
   "source": [
    "i-band"
   ]
  },
  {
   "cell_type": "code",
   "execution_count": null,
   "metadata": {
    "collapsed": true
   },
   "outputs": [],
   "source": [
    "sel_i = i_stat[np.where(np.logical_and((i_stat['max'] - i_stat['min']) > 50, i_stat['mad'] > 0.4))]\n",
    "sel_i_path = ['stamps/tape_centeright-y4a1_i_D00{0}.npy'.format(e) for e in sel_i['expnum']]"
   ]
  },
  {
   "cell_type": "markdown",
   "metadata": {},
   "source": [
    "z-band"
   ]
  },
  {
   "cell_type": "code",
   "execution_count": null,
   "metadata": {
    "collapsed": true
   },
   "outputs": [],
   "source": [
    "sel_z = z_stat[np.where(np.logical_and((z_stat['max'] - z_stat['min']) > 50, z_stat['mad'] > 0.4))]\n",
    "sel_z_path = ['stamps/tape_centeright-y4a1_z_D00{0}.npy'.format(e) for e in sel_z['expnum']]"
   ]
  },
  {
   "cell_type": "markdown",
   "metadata": {},
   "source": [
    "Y-band"
   ]
  },
  {
   "cell_type": "code",
   "execution_count": null,
   "metadata": {
    "collapsed": true
   },
   "outputs": [],
   "source": [
    "sel_Y = Y_stat[np.where(np.logical_and((Y_stat['max'] - Y_stat['min']) > 20, Y_stat['mad'] > 0.4))]\n",
    "sel_Y_path = ['stamps/tape_centeright-y4a1_Y_D00{0}.npy'.format(e) for e in sel_Y['expnum']]"
   ]
  },
  {
   "cell_type": "code",
   "execution_count": null,
   "metadata": {
    "collapsed": true
   },
   "outputs": [],
   "source": [
    "print('Number of selected per band: g={0}, r={1}, z={2}, Y={3}'.format(sel_g.size, \n",
    "                                                                       sel_r.size, \n",
    "                                                                       sel_i.size,\n",
    "                                                                       sel_z.size,\n",
    "                                                                       sel_Y.size))"
   ]
  },
  {
   "cell_type": "markdown",
   "metadata": {},
   "source": [
    "Set animated plots "
   ]
  },
  {
   "cell_type": "code",
   "execution_count": null,
   "metadata": {
    "collapsed": true
   },
   "outputs": [],
   "source": [
    "def visual_sequence(path_list, anim_interval=200, anim_repeat=False, anim_save=False, outfnm=None):\n",
    "    ''' Function to receive a list of full paths to files to be \n",
    "    displayed in order, in overlapping sequence.\n",
    "    '''\n",
    "    fig = plt.figure()\n",
    "    ims = []\n",
    "    for i in path_list:\n",
    "        aux_x = np.load(i)\n",
    "        # Normalize image, using astropy zscale for range, and square root for \n",
    "        # stretching (?)\n",
    "        im_norm = ImageNormalize(aux_x, \n",
    "                                 interval=ZScaleInterval(),\n",
    "                                 stretch=SqrtStretch())\n",
    "        # Append each of the plots to a list\n",
    "        kw  = {\n",
    "            'origin' : 'lower', \n",
    "            'animated' : True, \n",
    "            'cmap' : 'gray_r',\n",
    "        }\n",
    "        im = plt.imshow(aux_x, norm=im_norm, **kw)\n",
    "        ims.append([im])\n",
    "    # Using the plot-populated list, create the animation\n",
    "    # blitting (True/False) useful when the frame can be slightly modified to \n",
    "    # create the next frame\n",
    "    ani = animation.ArtistAnimation(fig, ims, \n",
    "                                    interval=anim_interval, \n",
    "                                    blit=True,\n",
    "                                    repeat_delay=1000, \n",
    "                                    repeat=anim_repeat)\n",
    "    if anim_save:\n",
    "        if (outfnm is None):\n",
    "            outfnm = 'pid{0}.mp4'.format(os.getpid())\n",
    "        # Set up formatting for the movie files\n",
    "        aux_wr1 = animation.writers['ffmpeg']\n",
    "        aux_writer = aux_wr1(fps=15, metadata=dict(artist='F Paz-Chinchon'), bitrate=2000, dpi=300)\n",
    "        ani.save(outfnm, writer=aux_writer)\n",
    "    else:\n",
    "        plt.show()"
   ]
  },
  {
   "cell_type": "markdown",
   "metadata": {},
   "source": [
    "## Plots for the small set, covering ~15 days"
   ]
  },
  {
   "cell_type": "code",
   "execution_count": null,
   "metadata": {
    "collapsed": true
   },
   "outputs": [],
   "source": [
    "path_list = sel_g_path\n",
    "anim_interval = 200\n",
    "anim_repeat = False\n",
    "anim_save = True\n",
    "outfnm = 'g_tapebump_c01.mp4'\n",
    "#\n",
    "fig = plt.figure()\n",
    "ims = []\n",
    "for i in path_list:\n",
    "    aux_x = np.load(i)\n",
    "    # Normalize image, using astropy zscale for range, and square root for \n",
    "    # stretching (?)\n",
    "    im_norm = ImageNormalize(aux_x, \n",
    "                             interval=ZScaleInterval(),\n",
    "                             stretch=SqrtStretch())\n",
    "    # Append each of the plots to a list\n",
    "    kw  = {\n",
    "        'origin' : 'lower', \n",
    "        'animated' : True, \n",
    "        'cmap' : 'gray_r',\n",
    "    }\n",
    "    im = plt.imshow(aux_x, norm=im_norm, **kw)\n",
    "    ims.append([im])\n",
    "# Using the plot-populated list, create the animation\n",
    "# blitting (True/False) useful when the frame can be slightly modified to \n",
    "# create the next frame\n",
    "ani = animation.ArtistAnimation(fig, ims, \n",
    "                                interval=anim_interval, \n",
    "                                blit=True,\n",
    "                                repeat_delay=1000, \n",
    "                                repeat=anim_repeat)\n",
    "plt.colorbar()\n",
    "plt.suptitle('g-band, CCD 1, middle-right tapebump', color='dodgerblue')\n",
    "if anim_save:\n",
    "    if (outfnm is None):\n",
    "        outfnm = 'pid{0}.mp4'.format(os.getpid())\n",
    "    # Set up formatting for the movie files\n",
    "    aux_wr1 = animation.writers['ffmpeg']\n",
    "    aux_writer = aux_wr1(fps=5, metadata=dict(artist='F Paz-Chinchon'), bitrate=2000)\n",
    "    ani.save(outfnm, writer=aux_writer)\n",
    "    # plt.show()\n",
    "else:\n",
    "    plt.show()"
   ]
  },
  {
   "cell_type": "code",
   "execution_count": null,
   "metadata": {
    "collapsed": true
   },
   "outputs": [],
   "source": [
    "path_list = sel_r_path\n",
    "anim_interval = 200\n",
    "anim_repeat = False\n",
    "anim_save = True\n",
    "outfnm = 'r_tapebump_c01.mp4'\n",
    "#\n",
    "fig = plt.figure()\n",
    "ims = []\n",
    "for i in path_list:\n",
    "    aux_x = np.load(i)\n",
    "    # Normalize image, using astropy zscale for range, and square root for \n",
    "    # stretching (?)\n",
    "    im_norm = ImageNormalize(aux_x, \n",
    "                             interval=ZScaleInterval(),\n",
    "                             stretch=SqrtStretch())\n",
    "    # Append each of the plots to a list\n",
    "    kw  = {\n",
    "        'origin' : 'lower', \n",
    "        'animated' : True, \n",
    "        'cmap' : 'gray_r',\n",
    "    }\n",
    "    im = plt.imshow(aux_x, norm=im_norm, **kw)\n",
    "    ims.append([im])\n",
    "# Using the plot-populated list, create the animation\n",
    "# blitting (True/False) useful when the frame can be slightly modified to \n",
    "# create the next frame\n",
    "ani = animation.ArtistAnimation(fig, ims, \n",
    "                                interval=anim_interval, \n",
    "                                blit=True,\n",
    "                                repeat_delay=1000, \n",
    "                                repeat=anim_repeat)\n",
    "plt.suptitle('r-band, CCD 1, middle-right tapebump', color='dodgerblue')\n",
    "plt.colorbar()\n",
    "if anim_save:\n",
    "    if (outfnm is None):\n",
    "        outfnm = 'pid{0}.mp4'.format(os.getpid())\n",
    "    # Set up formatting for the movie files\n",
    "    aux_wr1 = animation.writers['ffmpeg']\n",
    "    aux_writer = aux_wr1(fps=5, metadata=dict(artist='F Paz-Chinchon'), bitrate=2000)\n",
    "    ani.save(outfnm, writer=aux_writer)\n",
    "    # plt.show()\n",
    "else:\n",
    "    plt.show()"
   ]
  },
  {
   "cell_type": "code",
   "execution_count": null,
   "metadata": {
    "collapsed": true
   },
   "outputs": [],
   "source": [
    "path_list = sel_i_path\n",
    "anim_interval = 200\n",
    "anim_repeat = False\n",
    "anim_save = True\n",
    "outfnm = 'i_tapebump_c01.mp4'\n",
    "#\n",
    "fig = plt.figure()\n",
    "ims = []\n",
    "for i in path_list:\n",
    "    aux_x = np.load(i)\n",
    "    # Normalize image, using astropy zscale for range, and square root for \n",
    "    # stretching (?)\n",
    "    im_norm = ImageNormalize(aux_x, \n",
    "                             interval=ZScaleInterval(),\n",
    "                             stretch=SqrtStretch())\n",
    "    # Append each of the plots to a list\n",
    "    kw  = {\n",
    "        'origin' : 'lower', \n",
    "        'animated' : True, \n",
    "        'cmap' : 'gray_r',\n",
    "    }\n",
    "    im = plt.imshow(aux_x, norm=im_norm, **kw)\n",
    "    ims.append([im])\n",
    "# Using the plot-populated list, create the animation\n",
    "# blitting (True/False) useful when the frame can be slightly modified to \n",
    "# create the next frame\n",
    "ani = animation.ArtistAnimation(fig, ims, \n",
    "                                interval=anim_interval, \n",
    "                                blit=True,\n",
    "                                repeat_delay=1000, \n",
    "                                repeat=anim_repeat)\n",
    "plt.suptitle('i-band, CCD 1, middle-right tapebump', color='dodgerblue')\n",
    "plt.colorbar()\n",
    "if anim_save:\n",
    "    if (outfnm is None):\n",
    "        outfnm = 'pid{0}.mp4'.format(os.getpid())\n",
    "    # Set up formatting for the movie files\n",
    "    aux_wr1 = animation.writers['ffmpeg']\n",
    "    aux_writer = aux_wr1(fps=5, metadata=dict(artist='F Paz-Chinchon'), bitrate=2000)\n",
    "    ani.save(outfnm, writer=aux_writer)\n",
    "    plt.show()\n",
    "else:\n",
    "    plt.show()"
   ]
  },
  {
   "cell_type": "code",
   "execution_count": null,
   "metadata": {
    "collapsed": true
   },
   "outputs": [],
   "source": [
    "path_list = sel_z_path\n",
    "anim_interval = 200\n",
    "anim_repeat = False\n",
    "anim_save = True\n",
    "outfnm = 'z_tapebump_c01.mp4'\n",
    "#\n",
    "fig = plt.figure()\n",
    "ims = []\n",
    "for i in path_list:\n",
    "    aux_x = np.load(i)\n",
    "    # Normalize image, using astropy zscale for range, and square root for \n",
    "    # stretching (?)\n",
    "    im_norm = ImageNormalize(aux_x, \n",
    "                             interval=ZScaleInterval(),\n",
    "                             stretch=SqrtStretch())\n",
    "    # Append each of the plots to a list\n",
    "    kw  = {\n",
    "        'origin' : 'lower', \n",
    "        'animated' : True, \n",
    "        'cmap' : 'gray_r',\n",
    "    }\n",
    "    im = plt.imshow(aux_x, norm=im_norm, **kw)\n",
    "    ims.append([im])\n",
    "# Using the plot-populated list, create the animation\n",
    "# blitting (True/False) useful when the frame can be slightly modified to \n",
    "# create the next frame\n",
    "ani = animation.ArtistAnimation(fig, ims, \n",
    "                                interval=anim_interval, \n",
    "                                blit=True,\n",
    "                                repeat_delay=1000, \n",
    "                                repeat=anim_repeat)\n",
    "plt.suptitle('z-band, CCD 1, middle-right tapebump', color='dodgerblue')\n",
    "plt.colorbar()\n",
    "if anim_save:\n",
    "    if (outfnm is None):\n",
    "        outfnm = 'pid{0}.mp4'.format(os.getpid())\n",
    "    # Set up formatting for the movie files\n",
    "    aux_wr1 = animation.writers['ffmpeg']\n",
    "    aux_writer = aux_wr1(fps=5, metadata=dict(artist='F Paz-Chinchon'), bitrate=2000)\n",
    "    ani.save(outfnm, writer=aux_writer)\n",
    "    plt.show()\n",
    "else:\n",
    "    plt.show()"
   ]
  },
  {
   "cell_type": "code",
   "execution_count": null,
   "metadata": {
    "collapsed": true
   },
   "outputs": [],
   "source": [
    "path_list = sel_Y_path\n",
    "anim_interval = 200\n",
    "anim_repeat = False\n",
    "anim_save = True\n",
    "outfnm = 'Y_tapebump_c01.mp4'\n",
    "#\n",
    "fig = plt.figure()\n",
    "ims = []\n",
    "for i in path_list:\n",
    "    aux_x = np.load(i)\n",
    "    # Normalize image, using astropy zscale for range, and square root for \n",
    "    # stretching (?)\n",
    "    im_norm = ImageNormalize(aux_x, \n",
    "                             interval=ZScaleInterval(),\n",
    "                             stretch=SqrtStretch())\n",
    "    # Append each of the plots to a list\n",
    "    kw  = {\n",
    "        'origin' : 'lower', \n",
    "        'animated' : True, \n",
    "        'cmap' : 'gray_r',\n",
    "    }\n",
    "    im = plt.imshow(aux_x, norm=im_norm, **kw)\n",
    "    ims.append([im])\n",
    "# Using the plot-populated list, create the animation\n",
    "# blitting (True/False) useful when the frame can be slightly modified to \n",
    "# create the next frame\n",
    "ani = animation.ArtistAnimation(fig, ims, \n",
    "                                interval=anim_interval, \n",
    "                                blit=True,\n",
    "                                repeat_delay=1000, \n",
    "                                repeat=anim_repeat)\n",
    "plt.suptitle('Y-band, CCD 1, middle-right tapebump', color='dodgerblue')\n",
    "plt.colorbar()\n",
    "if anim_save:\n",
    "    if (outfnm is None):\n",
    "        outfnm = 'pid{0}.mp4'.format(os.getpid())\n",
    "    # Set up formatting for the movie files\n",
    "    aux_wr1 = animation.writers['ffmpeg']\n",
    "    aux_writer = aux_wr1(fps=5, metadata=dict(artist='F Paz-Chinchon'), bitrate=2000)\n",
    "    ani.save(outfnm, writer=aux_writer)\n",
    "    plt.show()\n",
    "else:\n",
    "    plt.show()"
   ]
  },
  {
   "cell_type": "markdown",
   "metadata": {},
   "source": [
    "## Now for the larger set, from 20161001 to 20171208"
   ]
  },
  {
   "cell_type": "markdown",
   "metadata": {},
   "source": [
    "### Diagnosis plot for the larger set, covering from 20161001 to 20161208"
   ]
  },
  {
   "cell_type": "code",
   "execution_count": null,
   "metadata": {
    "scrolled": true
   },
   "outputs": [],
   "source": [
    "var_y1 = 'mad'\n",
    "kw1 = {\n",
    "    'marker' : 's',\n",
    "    's' : 1, \n",
    "    'color' : 'blue',\n",
    "}\n",
    "fig, ax = plt.subplots(2, 5, figsize=(10, 6.5))\n",
    "ax[0, 0].scatter(g_stat_s2['mjd'], g_stat_s2[var_y1], **kw1)\n",
    "ax[0, 1].scatter(r_stat_s2['mjd'], r_stat_s2[var_y1], **kw1)\n",
    "ax[0, 2].scatter(i_stat_s2['mjd'], i_stat_s2[var_y1], **kw1)\n",
    "ax[0, 3].scatter(z_stat_s2['mjd'], z_stat_s2[var_y1], **kw1)\n",
    "ax[0, 4].scatter(Y_stat_s2['mjd'], Y_stat_s2[var_y1], **kw1)\n",
    "#\n",
    "kw2 = {\n",
    "    's' : 1,\n",
    "    'color' : 'green',\n",
    "}\n",
    "ax[1, 0].scatter(g_stat_s2['max'] - g_stat_s2['min'], g_stat_s2['mad'], **kw2)\n",
    "ax[1, 1].scatter(r_stat_s2['max'] - r_stat_s2['min'], r_stat_s2['mad'], **kw2)\n",
    "ax[1, 2].scatter(i_stat_s2['max'] - i_stat_s2['min'], i_stat_s2['mad'], **kw2)\n",
    "ax[1, 3].scatter(z_stat_s2['max'] - z_stat_s2['min'], z_stat_s2['mad'], **kw2)\n",
    "ax[1, 4].scatter(Y_stat_s2['max'] - Y_stat_s2['min'], Y_stat_s2['mad'], **kw2)\n",
    "#\n",
    "bands = ['g', 'r', 'i', 'z', 'Y']\n",
    "for idx, s in enumerate(ax[0, :]):\n",
    "    s.set_yscale('log')\n",
    "    s.set_xlabel('mjd')\n",
    "    s.set_ylabel('mad')\n",
    "    s.set_title('{0}-band, {1:.1f} d'.format(bands[idx], days_s2[idx]))\n",
    "for idx, s in enumerate(ax[1, :]):\n",
    "    s.set_yscale('log')\n",
    "    s.set_xlabel('mad')\n",
    "    s.set_ylabel('max - min')\n",
    "#    \n",
    "plt.subplots_adjust(wspace=0.5, left=0.1, right=0.98)"
   ]
  },
  {
   "cell_type": "markdown",
   "metadata": {},
   "source": [
    "### A very handcrafted selection"
   ]
  },
  {
   "cell_type": "code",
   "execution_count": null,
   "metadata": {
    "collapsed": true
   },
   "outputs": [],
   "source": [
    "sel_g_s2 = g_stat_s2[np.where(np.logical_and((g_stat_s2['max'] - g_stat_s2['min']) > 50, g_stat_s2['mad'] > 0.4))]\n",
    "sel_g_s2_path = ['stamps_20161001t1208/tape_centeright-y4a1-20161001t1208_g_D00{0}.npy'.format(e) \n",
    "                 for e in sel_g_s2['expnum']]"
   ]
  },
  {
   "cell_type": "code",
   "execution_count": null,
   "metadata": {},
   "outputs": [],
   "source": [
    "path_list = sel_g_s2_path\n",
    "anim_interval = 200\n",
    "anim_repeat = False\n",
    "anim_save = True\n",
    "outfnm = 'g_tapebump_20161001t1208.mp4'\n",
    "#\n",
    "\n",
    "fig = plt.figure()\n",
    "ims = []\n",
    "cnt = 1\n",
    "for i in path_list:\n",
    "    aux_x = np.load(i)\n",
    "    # Normalize image, using astropy zscale for range, and square root for \n",
    "    # stretching (?)\n",
    "    im_norm = ImageNormalize(aux_x, \n",
    "                             interval=ZScaleInterval(),\n",
    "                             stretch=SqrtStretch())\n",
    "    # Append each of the plots to a list\n",
    "    kw  = {\n",
    "        'origin' : 'lower', \n",
    "        'animated' : True, \n",
    "        'cmap' : 'gray_r',\n",
    "    }\n",
    "    im = plt.imshow(aux_x, norm=im_norm, label=i, **kw)\n",
    "    imaux = plt.text(0.5, 0.5, '{0}'.format(cnt), fontweight='bold', color='w', fontsize=15)\n",
    "    ims.append([im, imaux])\n",
    "    cnt += 1\n",
    "# Using the plot-populated list, create the animation\n",
    "# blitting (True/False) useful when the frame can be slightly modified to \n",
    "# create the next frame\n",
    "ani = animation.ArtistAnimation(fig, ims, \n",
    "                                interval=anim_interval, \n",
    "                                blit=True,\n",
    "                                repeat_delay=1000, \n",
    "                                repeat=anim_repeat)\n",
    "plt.colorbar()\n",
    "plt.suptitle('g-band, CCD 1, middle-right tapebump. 20161001 to 20161208', color='green')\n",
    "plt.legend()\n",
    "if anim_save:\n",
    "    if (outfnm is None):\n",
    "        outfnm = 'pid{0}.mp4'.format(os.getpid())\n",
    "    # Set up formatting for the movie files\n",
    "    aux_wr1 = animation.writers['ffmpeg']\n",
    "    aux_writer = aux_wr1(fps=5, metadata=dict(artist='F Paz-Chinchon'), bitrate=2000)\n",
    "    ani.save(outfnm, writer=aux_writer)\n",
    "    # plt.show()\n",
    "else:\n",
    "    plt.show()"
   ]
  },
  {
   "cell_type": "markdown",
   "metadata": {},
   "source": [
    "### Visual inspecting the generateed movies, generate a list of 'pure' highlighted tapebumps"
   ]
  },
  {
   "cell_type": "code",
   "execution_count": null,
   "metadata": {},
   "outputs": [],
   "source": [
    "g_s2_idx = [11, 12, 13, 14, 15, 19, 21, 28, 31, 32, 42, 45, 46, 56, 58, 76, 107, 114, 118, 119, 123]\n",
    "len(g_s2_idx)"
   ]
  },
  {
   "cell_type": "markdown",
   "metadata": {},
   "source": [
    "Use the visually selected stamps to make a new selection"
   ]
  },
  {
   "cell_type": "markdown",
   "metadata": {},
   "source": [
    "**List of paths of the selection used to construct the median image**"
   ]
  },
  {
   "cell_type": "code",
   "execution_count": null,
   "metadata": {
    "collapsed": true
   },
   "outputs": [],
   "source": [
    "cnt = 0\n",
    "selection_path = []\n",
    "for i in g_s2_idx:\n",
    "    p = sel_g_s2_path[i]\n",
    "    selection_path.append(p)\n",
    "    if (cnt == 0):\n",
    "        x3d = np.load(p)\n",
    "    else:\n",
    "        x3d = np.dstack((x3d, np.load(p)))\n",
    "    cnt += 1"
   ]
  },
  {
   "cell_type": "markdown",
   "metadata": {},
   "source": [
    "Function to construct the median of stacked stamps"
   ]
  },
  {
   "cell_type": "code",
   "execution_count": null,
   "metadata": {
    "collapsed": true
   },
   "outputs": [],
   "source": [
    "def stat_cube(x3d, func):\n",
    "    ''' Function to calculate the median image per pixel, using an input \n",
    "    3dimensional array containing the stamps on which to work.\n",
    "    Uses numpy iteration tools\n",
    "    Example for easy usage:\n",
    "    x3d = np.dstack(array_i)\n",
    "    x_median = stat_cube(x3d, (lambda: np.median)())\n",
    "    '''\n",
    "    out = np.zeros_like(x3d[:, :, 0])\n",
    "    it = np.nditer(x3d[:, :, 0], flags=['multi_index'])\n",
    "    while not it.finished:\n",
    "        i1, i2 = it.multi_index\n",
    "        out[i1, i2] = func(x3d[i1, i2, :])\n",
    "        it.iternext()\n",
    "    return out"
   ]
  },
  {
   "cell_type": "markdown",
   "metadata": {},
   "source": [
    "Median image"
   ]
  },
  {
   "cell_type": "code",
   "execution_count": null,
   "metadata": {
    "collapsed": true
   },
   "outputs": [],
   "source": [
    "z_median = stat_cube(x3d, (lambda: np.median)())"
   ]
  },
  {
   "cell_type": "code",
   "execution_count": null,
   "metadata": {},
   "outputs": [],
   "source": [
    "fig, ax = plt.subplots(figsize=(3, 3))\n",
    "im = ax.imshow(z_median, origin='lower')\n",
    "ax.set_title('Median stamp, g-band')\n",
    "plt.colorbar(im, orientation='horizontal')"
   ]
  },
  {
   "cell_type": "markdown",
   "metadata": {},
   "source": [
    "## Using the median image stamp, make a ratio-based selection using MAD"
   ]
  },
  {
   "cell_type": "code",
   "execution_count": null,
   "metadata": {
    "collapsed": true
   },
   "outputs": [],
   "source": [
    "all_g_s2_path = ['stamps_20161001t1208/tape_centeright-y4a1-20161001t1208_g_D00{0}.npy'.format(e) \n",
    "                 for e in g_stat_s2['expnum']]"
   ]
  },
  {
   "cell_type": "code",
   "execution_count": null,
   "metadata": {
    "collapsed": true
   },
   "outputs": [],
   "source": [
    "g_ratio = []\n",
    "for p in all_g_s2_path:\n",
    "    # tmp_x = np.std(np.load(p) / z_median)\n",
    "    tmp_x = np.load(p) / z_median\n",
    "    tmp_x = np.median(np.abs(tmp_x - np.median(tmp_x)))\n",
    "    g_ratio.append(tmp_x)"
   ]
  },
  {
   "cell_type": "code",
   "execution_count": null,
   "metadata": {},
   "outputs": [],
   "source": [
    "len(g_ratio), g_stat_s2['mjd'].shape"
   ]
  },
  {
   "cell_type": "code",
   "execution_count": null,
   "metadata": {},
   "outputs": [],
   "source": [
    "fig, ax = plt.subplots(1, 2, figsize=(5, 3))\n",
    "ax[0].scatter(g_stat_s2['mjd'], g_ratio)\n",
    "ax[1].hist(g_ratio, bins=50)\n",
    "ax[0].set_yscale('log')"
   ]
  },
  {
   "cell_type": "code",
   "execution_count": null,
   "metadata": {
    "collapsed": true
   },
   "outputs": [],
   "source": [
    "# Idea:\n",
    "# to get the images that has lower MAD and construct a library from them. First I need to plot them for checking\n",
    "# Ranges: mad < 0.03, 0.03 <= mad < 0.05, 0.05 <= mad < 0.2, mad > 0.2\n",
    "idx = np.where(np.array(g_ratio) <= 0.03)\n",
    "#(np.logical_and(np.array(g_ratio) >= 0.05, np.array(g_ratio) < 0.2))\n",
    "set1_path = np.array(all_g_s2_path)[idx]"
   ]
  },
  {
   "cell_type": "code",
   "execution_count": null,
   "metadata": {
    "scrolled": true
   },
   "outputs": [],
   "source": [
    "path_list = set1_path\n",
    "anim_interval = 200\n",
    "anim_repeat = False\n",
    "anim_save = True\n",
    "outfnm = 'set_madlt003.mp4'\n",
    "#\n",
    "\n",
    "fig = plt.figure()\n",
    "ims = []\n",
    "cnt = 1\n",
    "for i in path_list:\n",
    "    aux_x = np.load(i)\n",
    "    # Normalize image, using astropy zscale for range, and square root for \n",
    "    # stretching (?)\n",
    "    im_norm = ImageNormalize(aux_x, \n",
    "                             interval=ZScaleInterval(),\n",
    "                             stretch=SqrtStretch())\n",
    "    # Append each of the plots to a list\n",
    "    kw  = {\n",
    "        'origin' : 'lower', \n",
    "        'animated' : True, \n",
    "        'cmap' : 'gray_r',\n",
    "    }\n",
    "    im = plt.imshow(aux_x, norm=im_norm, label=i, **kw)\n",
    "    imaux = plt.text(0.5, 0.5, '{0}'.format(cnt), fontweight='bold', color='w', fontsize=15)\n",
    "    ims.append([im, imaux])\n",
    "    cnt += 1\n",
    "# Using the plot-populated list, create the animation\n",
    "# blitting (True/False) useful when the frame can be slightly modified to \n",
    "# create the next frame\n",
    "ani = animation.ArtistAnimation(fig, ims, \n",
    "                                interval=anim_interval, \n",
    "                                blit=True,\n",
    "                                repeat_delay=1000, \n",
    "                                repeat=anim_repeat)\n",
    "plt.colorbar()\n",
    "#plt.suptitle('g-band, CCD 1, middle-right tapebump. 20161001 to 20161208', color='green')\n",
    "plt.legend()\n",
    "if anim_save:\n",
    "    if (outfnm is None):\n",
    "        outfnm = 'pid{0}.mp4'.format(os.getpid())\n",
    "    # Set up formatting for the movie files\n",
    "    aux_wr1 = animation.writers['ffmpeg']\n",
    "    aux_writer = aux_wr1(fps=5, metadata=dict(artist='F Paz-Chinchon'), bitrate=2000)\n",
    "    ani.save(outfnm, writer=aux_writer)\n",
    "    # plt.show()\n",
    "else:\n",
    "    plt.show()\n"
   ]
  },
  {
   "cell_type": "code",
   "execution_count": null,
   "metadata": {
    "collapsed": true
   },
   "outputs": [],
   "source": []
  },
  {
   "cell_type": "markdown",
   "metadata": {},
   "source": [
    "### From the above ranges (0.03/0.05/0.2), the most consistent was the range for `MAD<0.03`. The problem is: this range exhibits only faint tapebumps."
   ]
  },
  {
   "cell_type": "code",
   "execution_count": null,
   "metadata": {},
   "outputs": [],
   "source": [
    "print( '{0} selected stamps in common'.format( len(set(set1_path).intersection(set(selection_path))) ) )"
   ]
  },
  {
   "cell_type": "markdown",
   "metadata": {},
   "source": [
    "If even the original stamps used for construct the medin image were not included, then this is a good test to say the classificator is not good enough"
   ]
  },
  {
   "cell_type": "markdown",
   "metadata": {},
   "source": [
    "## Another metric, norm for the difference between each stamp and the median image"
   ]
  },
  {
   "cell_type": "code",
   "execution_count": null,
   "metadata": {
    "collapsed": true
   },
   "outputs": [],
   "source": [
    "aux_norm = []\n",
    "for p in all_g_s2_path:\n",
    "    tmp = np.load(p)\n",
    "    aux_norm.append( scipy.linalg.norm(tmp - z_median, ord='fro') )"
   ]
  },
  {
   "cell_type": "code",
   "execution_count": null,
   "metadata": {
    "scrolled": true
   },
   "outputs": [],
   "source": [
    "fig, ax = plt.subplots(2, 1, figsize=(6, 3))\n",
    "ax[0].scatter(g_stat_s2['mjd'], aux_norm, marker='.', color='forestgreen', s=8, edgecolor='k', linewidth=0.1)\n",
    "ax[0].axhline(np.median(aux_norm), color='r', linewidth=1, zorder=0)\n",
    "ax[1].hist(aux_norm, range=[0, np.median(aux_norm)], bins=40)\n",
    "ax[0].set_yscale('log')"
   ]
  },
  {
   "cell_type": "code",
   "execution_count": null,
   "metadata": {
    "scrolled": true
   },
   "outputs": [],
   "source": [
    "# Lets set a cut below the median\n",
    "idx = np.where(np.array(aux_norm) < 700)\n",
    "y1 = np.array(all_g_s2_path)[idx]\n",
    "y2 = np.array(aux_norm)[idx]\n",
    "# Remove first 11\n",
    "y1 = y1[12:]\n",
    "y2 = y2[12:]\n",
    "\n",
    "path_list = y1\n",
    "anim_interval = 200\n",
    "anim_repeat = False\n",
    "anim_save = True\n",
    "#\n",
    "fig = plt.figure()\n",
    "ims = []\n",
    "cnt = 1\n",
    "for i in path_list:\n",
    "    aux_x = np.load(i)\n",
    "    # Normalize image, using astropy zscale for range, and square root for \n",
    "    # stretching (?)\n",
    "    im_norm = ImageNormalize(aux_x, \n",
    "                             interval=ZScaleInterval(),\n",
    "                             stretch=SqrtStretch())\n",
    "    # Append each of the plots to a list\n",
    "    kw  = {\n",
    "        'origin' : 'lower', \n",
    "        'animated' : True, \n",
    "        'cmap' : 'gray_r',\n",
    "    }\n",
    "    im = plt.imshow(aux_x, norm=im_norm, label=i, **kw)\n",
    "    imaux = plt.text(0.5, 0.5, '{0} / norm:{1:.2f}'.format(cnt, y2[cnt-1]), \n",
    "                     fontweight='bold', color='w', fontsize=15)\n",
    "    ims.append([im, imaux])\n",
    "    cnt += 1\n",
    "# Using the plot-populated list, create the animation\n",
    "# blitting (True/False) useful when the frame can be slightly modified to \n",
    "# create the next frame\n",
    "ani = animation.ArtistAnimation(fig, ims, \n",
    "                                interval=anim_interval, \n",
    "                                blit=True,\n",
    "                                repeat_delay=1000, \n",
    "                                repeat=anim_repeat)\n",
    "plt.colorbar()\n",
    "#plt.suptitle('g-band, CCD 1, middle-right tapebump. 20161001 to 20161208', color='green')\n",
    "plt.legend()\n",
    "plt.show()"
   ]
  },
  {
   "cell_type": "markdown",
   "metadata": {},
   "source": [
    "### This metric works better than the ratio-based. It selects more prominent tapebumps. We can use this result, after discard some few (11)"
   ]
  },
  {
   "cell_type": "markdown",
   "metadata": {},
   "source": [
    "## Additional similaruty metrics *structural similarity index*"
   ]
  },
  {
   "cell_type": "markdown",
   "metadata": {},
   "source": [
    "### As stars are present, the min-max inerval is not useful. Use instead the zscale"
   ]
  },
  {
   "cell_type": "markdown",
   "metadata": {
    "collapsed": true
   },
   "source": [
    "The structural similarity index is *An image quality metric that assesses the visual impact of three characteristics of an image: luminance, contrast and structure* (Mathworks definition)"
   ]
  },
  {
   "cell_type": "markdown",
   "metadata": {},
   "source": [
    "Save a dtaframe with the results of SSIM"
   ]
  },
  {
   "cell_type": "code",
   "execution_count": null,
   "metadata": {
    "collapsed": true
   },
   "outputs": [],
   "source": [
    "comp = []\n",
    "aux_expnum = []\n",
    "aux_mjd = []\n",
    "aux_path = []\n",
    "for p in all_g_s2_path:\n",
    "    tmp = np.load(p)\n",
    "    # Calculate the ZScale\n",
    "    aux_norm = ImageNormalize(tmp, \n",
    "                              interval=ZScaleInterval(),)\n",
    "    aux_ssim = compare_ssim(z_median, \n",
    "                            tmp, \n",
    "                            data_range=aux_norm.vmax - aux_norm.vmin)\n",
    "    comp.append(aux_ssim)\n",
    "    # \n",
    "    aux_expnum.append(int(p[-12:-4]))\n",
    "    aux_mjd.append(g_stat_s2['mjd'][ np.where(g_stat_s2['expnum'] == int(p[-12:-4])) ])\n",
    "    aux_path.append(p)\n",
    "comp = np.array(comp)\n",
    "df_ssim = pd.DataFrame({'ssim' : comp, \n",
    "                        'mjd' : aux_expnum, \n",
    "                        'expnum' : aux_expnum,\n",
    "                        'path' : aux_path,})"
   ]
  },
  {
   "cell_type": "code",
   "execution_count": null,
   "metadata": {},
   "outputs": [],
   "source": [
    "df_ssim.info()"
   ]
  },
  {
   "cell_type": "markdown",
   "metadata": {},
   "source": [
    "Quick assessment plot to get the lower cut for the index values"
   ]
  },
  {
   "cell_type": "code",
   "execution_count": null,
   "metadata": {
    "scrolled": false
   },
   "outputs": [],
   "source": [
    "fig, ax = plt.subplots(figsize=(4, 3))\n",
    "\n",
    "ax.hist2d(df_ssim['mjd'], df_ssim['ssim'], bins=80, cmin=1, cmap='viridis_r')\n",
    "ax.set_xlabel('MJD')\n",
    "ax.set_ylabel('SSIM')\n",
    "\n",
    "plt.gcf().autofmt_xdate()\n",
    "\n",
    "plt.subplots_adjust(left=0.18, bottom=0.2)\n",
    "plt.show()"
   ]
  },
  {
   "cell_type": "markdown",
   "metadata": {},
   "source": [
    "With the cut value, get the set of stamps better matching my set"
   ]
  },
  {
   "cell_type": "code",
   "execution_count": null,
   "metadata": {
    "scrolled": false
   },
   "outputs": [],
   "source": [
    "ssim_cutval = 0.25\n",
    "\n",
    "# idx = np.where(np.array(comp) >= ssim_cutval)\n",
    "# y1 = np.array(all_g_s2_path)[idx]\n",
    "# y2 = comp[idx]\n",
    "\n",
    "df_ssim_a = df_ssim.loc[df_ssim.ssim >= 0.25]\n",
    "\n",
    "# For plotting\n",
    "anim_interval = 200\n",
    "anim_repeat = False\n",
    "anim_save = True\n",
    "outfnm = 'set_ssim_gt025.mp4'\n",
    "\n",
    "fig = plt.figure()\n",
    "ims = []\n",
    "cnt = 1\n",
    "for i in df_ssim_a['path']:\n",
    "    aux_x = np.load(i)\n",
    "    im_norm = ImageNormalize(aux_x, \n",
    "                             interval=ZScaleInterval(),\n",
    "                             stretch=SqrtStretch(),)\n",
    "    # Append each of the plots to a list\n",
    "    kw  = {\n",
    "        'origin' : 'lower', \n",
    "        'animated' : True, \n",
    "        'cmap' : 'gray_r',\n",
    "    }\n",
    "    im = plt.imshow(aux_x, norm=im_norm, label=i, **kw)\n",
    "    imaux = plt.text(0.5, 0.5, \n",
    "                     '{0} / norm:{1:.2f}'.format(cnt, df_ssim_a['ssim'].values[cnt-1]), \n",
    "                     fontweight='bold', color='w', fontsize=15)\n",
    "    ims.append([im, imaux])\n",
    "    cnt += 1\n",
    "# Using the plot-populated list, create the animation\n",
    "# blitting (True/False) useful when the frame can be slightly modified to \n",
    "# create the next frame\n",
    "ani = animation.ArtistAnimation(fig, ims, \n",
    "                                interval=anim_interval, \n",
    "                                blit=True,\n",
    "                                repeat_delay=1000, \n",
    "                                repeat=anim_repeat)\n",
    "plt.colorbar()\n",
    "plt.suptitle('g-band, CCD 1, middle-right tapebump. 20161001 to 20161208', color='green')\n",
    "plt.title('Classification: structural similarity index')\n",
    "plt.legend()\n",
    "\n",
    "if anim_save:\n",
    "    if (outfnm is None):\n",
    "        outfnm = 'pid{0}.mp4'.format(os.getpid())\n",
    "    # Set up formatting for the movie files\n",
    "    aux_wr1 = animation.writers['ffmpeg']\n",
    "    aux_writer = aux_wr1(fps=5, metadata=dict(artist='F Paz-Chinchon'), bitrate=2000)\n",
    "    ani.save(outfnm, writer=aux_writer)\n",
    "\n",
    "plt.show()"
   ]
  },
  {
   "cell_type": "markdown",
   "metadata": {},
   "source": [
    "Using the above defined indices for the selected values, jintly plot the main sample and the selection"
   ]
  },
  {
   "cell_type": "markdown",
   "metadata": {},
   "source": [
    "NOTE: change the usage of arrays to the df_ssim"
   ]
  },
  {
   "cell_type": "code",
   "execution_count": null,
   "metadata": {
    "scrolled": false
   },
   "outputs": [],
   "source": [
    "fig = plt.figure(figsize=(10,6))\n",
    "\n",
    "gs1 = gridspec.GridSpec(4, 4)\n",
    "gs1.update(left=0.08, right=0.48, wspace=0.05, bottom=0.3)\n",
    "ax1 = fig.add_subplot(gs1[1: , :-1])\n",
    "ax2 = fig.add_subplot(gs1[1: , -1:])#, sharey=ax1)\n",
    "ax3 = fig.add_subplot(gs1[0 , :-1])#, sharex=ax1)\n",
    "\n",
    "# Main set\n",
    "kw1 = {\n",
    "    'color' : 'lightgray',\n",
    "    's' : 4,\n",
    "}\n",
    "ax1.scatter(g_stat_s2['mjd'], comp, **kw1)\n",
    "# Selection\n",
    "kw2 = {\n",
    "    'color' : 'lime',\n",
    "    's' : 15,\n",
    "    'edgecolor' : 'red',\n",
    "    'lw' : 0.5,\n",
    "}\n",
    "ax1.scatter(g_stat_s2['mjd'][idx], comp[idx], **kw2)\n",
    "\n",
    "# Histogram for both samples\n",
    "waux1 = np.ones_like(comp) / comp.size\n",
    "ax2.hist(comp, orientation='horizontal', weights=waux1, histtype='stepfilled', \n",
    "         color='lightgray', edgecolor='k')\n",
    "waux2 = np.ones_like(comp[idx]) / comp[idx].size\n",
    "ax2.hist(comp[idx], orientation='horizontal', weights=waux2, histtype='stepfilled', \n",
    "         color='lime', edgecolor='r')\n",
    "#\n",
    "waux3 = np.ones_like(g_stat_s2['mjd'][idx]) / g_stat_s2['mjd'][idx].size\n",
    "ax3.hist(g_stat_s2['mjd'][idx], orientation='vertical', weights=waux3, \n",
    "         histtype='stepfilled', color='lime', edgecolor='r')\n",
    "\n",
    "# If sharing axis, then when removing labels from one subplot, the\n",
    "# other gtes its labels removed too\n",
    "ax2.set_ylim(ax1.set_ylim())\n",
    "ax3.set_xlim(ax1.get_xlim())\n",
    "\n",
    "# Data labels\n",
    "ax1.set_xlabel('obsdate')\n",
    "ax1.set_ylabel('SSIM')\n",
    "ax2.set_xlabel(r'N$_{norm}$')\n",
    "ax3.set_ylabel(r'N$_{norm}$')\n",
    "\n",
    "# Remove axis labels\n",
    "ax2.set_yticklabels([])\n",
    "ax3.set_xticklabels([])\n"
   ]
  },
  {
   "cell_type": "markdown",
   "metadata": {},
   "source": [
    "## SSIM worked well. Join the list with the visually selected."
   ]
  },
  {
   "cell_type": "markdown",
   "metadata": {},
   "source": [
    "Path list"
   ]
  },
  {
   "cell_type": "code",
   "execution_count": null,
   "metadata": {
    "collapsed": true
   },
   "outputs": [],
   "source": [
    "sel_stamp_path = np.r_[np.array(all_g_s2_path)[idx], np.array(selection_path)]\n",
    "sel_stamp_path = np.unique(sel_stamp_path)"
   ]
  },
  {
   "cell_type": "markdown",
   "metadata": {},
   "source": [
    "Save list to a text file"
   ]
  },
  {
   "cell_type": "code",
   "execution_count": null,
   "metadata": {},
   "outputs": [],
   "source": [
    "aux_out = 'stamps_PID{0}.txt'.format(os.getpid())\n",
    "np.savetxt(aux_out, sel_stamp_path, fmt='%s')"
   ]
  },
  {
   "cell_type": "code",
   "execution_count": null,
   "metadata": {},
   "outputs": [],
   "source": [
    "len(selection_path), np.array(all_g_s2_path)[idx].size, sel_stamp_path.size"
   ]
  },
  {
   "cell_type": "markdown",
   "metadata": {},
   "source": [
    "Expnums and stat values"
   ]
  },
  {
   "cell_type": "code",
   "execution_count": null,
   "metadata": {
    "collapsed": true
   },
   "outputs": [],
   "source": [
    "l_expnum = [int(p[-12:-4]) for p in sel_stamp_path]\n",
    "l_g_stat = g_stat_s2[np.isin(g_stat_s2['expnum'], l_expnum)]"
   ]
  },
  {
   "cell_type": "code",
   "execution_count": null,
   "metadata": {},
   "outputs": [],
   "source": [
    "l_g_stat['nite'].min(), l_g_stat['nite'].max()"
   ]
  },
  {
   "cell_type": "markdown",
   "metadata": {},
   "source": [
    "**NOTE: The time plot works for scatter, but I did not make it work for the histogram**"
   ]
  },
  {
   "cell_type": "code",
   "execution_count": null,
   "metadata": {
    "scrolled": false
   },
   "outputs": [],
   "source": [
    "fig, ax = plt.subplots(figsize=(6, 4))\n",
    "# Time conversion: MJD to time\n",
    "t = time.Time(l_g_stat['mjd'], format='mjd', scale='utc')\n",
    "kw1 = {\n",
    "    'color' : 'lime',\n",
    "    'xdate' : True,\n",
    "    'marker' : 'o',\n",
    "    'markersize' : 6,\n",
    "    'markeredgecolor' : 'red',\n",
    "}\n",
    "ax.plot_date(t.plot_date,  **kw1)\n",
    "\n",
    "# Rotate labels\n",
    "plt.setp( ax.xaxis.get_majorticklabels(), rotation=40 )\n",
    "\n",
    "ax.set_xlabel('obsdate')\n",
    "ax.set_ylabel('SSIM')\n",
    "ax.set_title('SSIM Selection')\n",
    "\n",
    "plt.subplots_adjust(bottom=0.3)"
   ]
  },
  {
   "cell_type": "code",
   "execution_count": null,
   "metadata": {
    "collapsed": true
   },
   "outputs": [],
   "source": []
  },
  {
   "cell_type": "code",
   "execution_count": null,
   "metadata": {
    "collapsed": true
   },
   "outputs": [],
   "source": []
  },
  {
   "cell_type": "code",
   "execution_count": null,
   "metadata": {
    "collapsed": true
   },
   "outputs": [],
   "source": []
  },
  {
   "cell_type": "code",
   "execution_count": null,
   "metadata": {
    "collapsed": true
   },
   "outputs": [],
   "source": []
  },
  {
   "cell_type": "code",
   "execution_count": null,
   "metadata": {
    "collapsed": true
   },
   "outputs": [],
   "source": []
  },
  {
   "cell_type": "code",
   "execution_count": null,
   "metadata": {
    "collapsed": true
   },
   "outputs": [],
   "source": []
  },
  {
   "cell_type": "code",
   "execution_count": null,
   "metadata": {
    "collapsed": true
   },
   "outputs": [],
   "source": []
  },
  {
   "cell_type": "code",
   "execution_count": null,
   "metadata": {
    "collapsed": true
   },
   "outputs": [],
   "source": []
  },
  {
   "cell_type": "code",
   "execution_count": null,
   "metadata": {
    "collapsed": true
   },
   "outputs": [],
   "source": []
  },
  {
   "cell_type": "code",
   "execution_count": null,
   "metadata": {
    "collapsed": true
   },
   "outputs": [],
   "source": []
  },
  {
   "cell_type": "code",
   "execution_count": null,
   "metadata": {
    "collapsed": true
   },
   "outputs": [],
   "source": []
  },
  {
   "cell_type": "code",
   "execution_count": null,
   "metadata": {
    "collapsed": true
   },
   "outputs": [],
   "source": []
  },
  {
   "cell_type": "code",
   "execution_count": null,
   "metadata": {
    "collapsed": true
   },
   "outputs": [],
   "source": []
  },
  {
   "cell_type": "code",
   "execution_count": null,
   "metadata": {
    "collapsed": true
   },
   "outputs": [],
   "source": []
  },
  {
   "cell_type": "code",
   "execution_count": null,
   "metadata": {
    "collapsed": true
   },
   "outputs": [],
   "source": []
  },
  {
   "cell_type": "code",
   "execution_count": null,
   "metadata": {
    "collapsed": true
   },
   "outputs": [],
   "source": []
  },
  {
   "cell_type": "code",
   "execution_count": null,
   "metadata": {
    "collapsed": true
   },
   "outputs": [],
   "source": []
  },
  {
   "cell_type": "code",
   "execution_count": null,
   "metadata": {
    "collapsed": true
   },
   "outputs": [],
   "source": []
  },
  {
   "cell_type": "code",
   "execution_count": null,
   "metadata": {
    "collapsed": true
   },
   "outputs": [],
   "source": []
  },
  {
   "cell_type": "code",
   "execution_count": null,
   "metadata": {
    "collapsed": true
   },
   "outputs": [],
   "source": []
  },
  {
   "cell_type": "code",
   "execution_count": null,
   "metadata": {
    "collapsed": true
   },
   "outputs": [],
   "source": []
  },
  {
   "cell_type": "code",
   "execution_count": null,
   "metadata": {
    "collapsed": true
   },
   "outputs": [],
   "source": []
  },
  {
   "cell_type": "code",
   "execution_count": null,
   "metadata": {
    "collapsed": true
   },
   "outputs": [],
   "source": []
  },
  {
   "cell_type": "code",
   "execution_count": null,
   "metadata": {
    "collapsed": true
   },
   "outputs": [],
   "source": []
  },
  {
   "cell_type": "code",
   "execution_count": null,
   "metadata": {
    "collapsed": true
   },
   "outputs": [],
   "source": []
  },
  {
   "cell_type": "code",
   "execution_count": null,
   "metadata": {
    "collapsed": true
   },
   "outputs": [],
   "source": []
  },
  {
   "cell_type": "code",
   "execution_count": null,
   "metadata": {
    "collapsed": true
   },
   "outputs": [],
   "source": []
  },
  {
   "cell_type": "code",
   "execution_count": null,
   "metadata": {
    "collapsed": true
   },
   "outputs": [],
   "source": []
  },
  {
   "cell_type": "code",
   "execution_count": null,
   "metadata": {
    "collapsed": true
   },
   "outputs": [],
   "source": []
  },
  {
   "cell_type": "code",
   "execution_count": null,
   "metadata": {
    "collapsed": true
   },
   "outputs": [],
   "source": []
  },
  {
   "cell_type": "code",
   "execution_count": null,
   "metadata": {
    "collapsed": true
   },
   "outputs": [],
   "source": []
  },
  {
   "cell_type": "code",
   "execution_count": null,
   "metadata": {
    "collapsed": true
   },
   "outputs": [],
   "source": []
  },
  {
   "cell_type": "code",
   "execution_count": null,
   "metadata": {
    "collapsed": true
   },
   "outputs": [],
   "source": []
  },
  {
   "cell_type": "code",
   "execution_count": null,
   "metadata": {
    "collapsed": true
   },
   "outputs": [],
   "source": []
  },
  {
   "cell_type": "code",
   "execution_count": null,
   "metadata": {
    "collapsed": true
   },
   "outputs": [],
   "source": []
  },
  {
   "cell_type": "code",
   "execution_count": null,
   "metadata": {
    "collapsed": true
   },
   "outputs": [],
   "source": []
  },
  {
   "cell_type": "code",
   "execution_count": null,
   "metadata": {
    "collapsed": true
   },
   "outputs": [],
   "source": []
  },
  {
   "cell_type": "code",
   "execution_count": null,
   "metadata": {
    "collapsed": true
   },
   "outputs": [],
   "source": []
  },
  {
   "cell_type": "code",
   "execution_count": null,
   "metadata": {
    "collapsed": true
   },
   "outputs": [],
   "source": []
  },
  {
   "cell_type": "code",
   "execution_count": null,
   "metadata": {
    "collapsed": true
   },
   "outputs": [],
   "source": []
  },
  {
   "cell_type": "code",
   "execution_count": null,
   "metadata": {
    "collapsed": true
   },
   "outputs": [],
   "source": []
  },
  {
   "cell_type": "code",
   "execution_count": null,
   "metadata": {
    "collapsed": true
   },
   "outputs": [],
   "source": []
  },
  {
   "cell_type": "code",
   "execution_count": null,
   "metadata": {
    "collapsed": true
   },
   "outputs": [],
   "source": []
  },
  {
   "cell_type": "code",
   "execution_count": null,
   "metadata": {
    "collapsed": true
   },
   "outputs": [],
   "source": []
  },
  {
   "cell_type": "code",
   "execution_count": null,
   "metadata": {
    "collapsed": true
   },
   "outputs": [],
   "source": []
  },
  {
   "cell_type": "code",
   "execution_count": null,
   "metadata": {
    "collapsed": true
   },
   "outputs": [],
   "source": []
  },
  {
   "cell_type": "code",
   "execution_count": null,
   "metadata": {
    "collapsed": true
   },
   "outputs": [],
   "source": []
  },
  {
   "cell_type": "code",
   "execution_count": null,
   "metadata": {
    "collapsed": true
   },
   "outputs": [],
   "source": []
  },
  {
   "cell_type": "code",
   "execution_count": null,
   "metadata": {
    "collapsed": true
   },
   "outputs": [],
   "source": []
  },
  {
   "cell_type": "code",
   "execution_count": null,
   "metadata": {
    "collapsed": true
   },
   "outputs": [],
   "source": []
  },
  {
   "cell_type": "code",
   "execution_count": null,
   "metadata": {
    "collapsed": true
   },
   "outputs": [],
   "source": []
  },
  {
   "cell_type": "code",
   "execution_count": null,
   "metadata": {
    "collapsed": true
   },
   "outputs": [],
   "source": []
  },
  {
   "cell_type": "code",
   "execution_count": null,
   "metadata": {
    "collapsed": true
   },
   "outputs": [],
   "source": []
  },
  {
   "cell_type": "code",
   "execution_count": null,
   "metadata": {
    "collapsed": true
   },
   "outputs": [],
   "source": []
  },
  {
   "cell_type": "code",
   "execution_count": null,
   "metadata": {
    "collapsed": true
   },
   "outputs": [],
   "source": []
  },
  {
   "cell_type": "code",
   "execution_count": null,
   "metadata": {
    "collapsed": true
   },
   "outputs": [],
   "source": []
  },
  {
   "cell_type": "code",
   "execution_count": null,
   "metadata": {
    "collapsed": true
   },
   "outputs": [],
   "source": []
  },
  {
   "cell_type": "code",
   "execution_count": null,
   "metadata": {
    "collapsed": true
   },
   "outputs": [],
   "source": []
  },
  {
   "cell_type": "code",
   "execution_count": null,
   "metadata": {
    "collapsed": true
   },
   "outputs": [],
   "source": []
  },
  {
   "cell_type": "code",
   "execution_count": null,
   "metadata": {
    "collapsed": true
   },
   "outputs": [],
   "source": []
  },
  {
   "cell_type": "code",
   "execution_count": null,
   "metadata": {
    "collapsed": true
   },
   "outputs": [],
   "source": []
  },
  {
   "cell_type": "code",
   "execution_count": null,
   "metadata": {
    "collapsed": true
   },
   "outputs": [],
   "source": []
  },
  {
   "cell_type": "code",
   "execution_count": null,
   "metadata": {
    "collapsed": true
   },
   "outputs": [],
   "source": []
  },
  {
   "cell_type": "code",
   "execution_count": null,
   "metadata": {
    "collapsed": true
   },
   "outputs": [],
   "source": []
  },
  {
   "cell_type": "code",
   "execution_count": null,
   "metadata": {
    "collapsed": true
   },
   "outputs": [],
   "source": []
  },
  {
   "cell_type": "code",
   "execution_count": null,
   "metadata": {
    "collapsed": true
   },
   "outputs": [],
   "source": []
  },
  {
   "cell_type": "code",
   "execution_count": null,
   "metadata": {
    "collapsed": true
   },
   "outputs": [],
   "source": []
  },
  {
   "cell_type": "code",
   "execution_count": null,
   "metadata": {
    "collapsed": true
   },
   "outputs": [],
   "source": []
  },
  {
   "cell_type": "code",
   "execution_count": null,
   "metadata": {
    "collapsed": true
   },
   "outputs": [],
   "source": []
  },
  {
   "cell_type": "code",
   "execution_count": null,
   "metadata": {
    "collapsed": true
   },
   "outputs": [],
   "source": []
  },
  {
   "cell_type": "code",
   "execution_count": null,
   "metadata": {
    "collapsed": true
   },
   "outputs": [],
   "source": []
  },
  {
   "cell_type": "code",
   "execution_count": null,
   "metadata": {
    "collapsed": true
   },
   "outputs": [],
   "source": []
  },
  {
   "cell_type": "code",
   "execution_count": null,
   "metadata": {
    "collapsed": true
   },
   "outputs": [],
   "source": []
  },
  {
   "cell_type": "code",
   "execution_count": null,
   "metadata": {
    "collapsed": true
   },
   "outputs": [],
   "source": []
  },
  {
   "cell_type": "code",
   "execution_count": null,
   "metadata": {
    "collapsed": true
   },
   "outputs": [],
   "source": []
  },
  {
   "cell_type": "code",
   "execution_count": null,
   "metadata": {
    "collapsed": true
   },
   "outputs": [],
   "source": []
  },
  {
   "cell_type": "code",
   "execution_count": null,
   "metadata": {
    "collapsed": true
   },
   "outputs": [],
   "source": []
  },
  {
   "cell_type": "code",
   "execution_count": null,
   "metadata": {
    "collapsed": true
   },
   "outputs": [],
   "source": []
  },
  {
   "cell_type": "code",
   "execution_count": null,
   "metadata": {
    "collapsed": true
   },
   "outputs": [],
   "source": []
  },
  {
   "cell_type": "code",
   "execution_count": null,
   "metadata": {
    "collapsed": true
   },
   "outputs": [],
   "source": []
  },
  {
   "cell_type": "code",
   "execution_count": null,
   "metadata": {
    "collapsed": true
   },
   "outputs": [],
   "source": []
  },
  {
   "cell_type": "code",
   "execution_count": null,
   "metadata": {
    "collapsed": true
   },
   "outputs": [],
   "source": []
  },
  {
   "cell_type": "code",
   "execution_count": null,
   "metadata": {
    "collapsed": true
   },
   "outputs": [],
   "source": []
  },
  {
   "cell_type": "code",
   "execution_count": null,
   "metadata": {
    "collapsed": true
   },
   "outputs": [],
   "source": []
  },
  {
   "cell_type": "code",
   "execution_count": null,
   "metadata": {
    "collapsed": true
   },
   "outputs": [],
   "source": []
  },
  {
   "cell_type": "code",
   "execution_count": null,
   "metadata": {
    "collapsed": true
   },
   "outputs": [],
   "source": []
  },
  {
   "cell_type": "code",
   "execution_count": null,
   "metadata": {
    "collapsed": true
   },
   "outputs": [],
   "source": []
  },
  {
   "cell_type": "code",
   "execution_count": null,
   "metadata": {
    "collapsed": true
   },
   "outputs": [],
   "source": []
  },
  {
   "cell_type": "code",
   "execution_count": null,
   "metadata": {
    "collapsed": true
   },
   "outputs": [],
   "source": []
  },
  {
   "cell_type": "code",
   "execution_count": null,
   "metadata": {
    "collapsed": true
   },
   "outputs": [],
   "source": []
  },
  {
   "cell_type": "code",
   "execution_count": null,
   "metadata": {
    "collapsed": true
   },
   "outputs": [],
   "source": []
  },
  {
   "cell_type": "code",
   "execution_count": null,
   "metadata": {
    "collapsed": true
   },
   "outputs": [],
   "source": []
  },
  {
   "cell_type": "code",
   "execution_count": null,
   "metadata": {
    "collapsed": true
   },
   "outputs": [],
   "source": []
  },
  {
   "cell_type": "code",
   "execution_count": null,
   "metadata": {
    "collapsed": true
   },
   "outputs": [],
   "source": []
  },
  {
   "cell_type": "code",
   "execution_count": null,
   "metadata": {
    "collapsed": true
   },
   "outputs": [],
   "source": []
  }
 ],
 "metadata": {
  "kernelspec": {
   "display_name": "Python 3",
   "language": "python",
   "name": "python3"
  },
  "language_info": {
   "codemirror_mode": {
    "name": "ipython",
    "version": 3
   },
   "file_extension": ".py",
   "mimetype": "text/x-python",
   "name": "python",
   "nbconvert_exporter": "python",
   "pygments_lexer": "ipython3",
   "version": "3.6.3"
  }
 },
 "nbformat": 4,
 "nbformat_minor": 1
}
